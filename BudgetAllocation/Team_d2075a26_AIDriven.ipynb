import pandas as pd
import numpy as np
def allocate_budget(data_path, total_budget, min_allocation_percentage=0.1):
  data = pd.read_csv(data_path)
  conversion_rates = data.groupby(['source', 'channel']).mean()['Isconvert']
  total_conversions = data.groupby(['source', 'channel']).sum()['Isconvert']
  budget_allocation = conversion_rates * total_conversions
  budget_allocation = budget_allocation / budget_allocation.sum() * total_budget
  min_allocation = total_budget * min_allocation_percentage
  budget_allocation = budget_allocation.groupby('source').apply(
      lambda x: np.maximum(x, min_allocation)
  )
  budget_allocation = budget_allocation.rename('allocated_budget')
  return budget_allocation
data_path = 'finalmercer.csv'  # Replace with the actual path to your CSV file
total_budget = 1000
allocated_budget = allocate_budget(data_path, total_budget)
print(allocated_budget)